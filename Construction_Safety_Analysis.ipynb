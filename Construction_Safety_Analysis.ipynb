{
  "nbformat": 4,
  "nbformat_minor": 0,
  "metadata": {
    "colab": {
      "provenance": []
    },
    "kernelspec": {
      "name": "python3",
      "display_name": "Python 3"
    },
    "language_info": {
      "name": "python"
    }
  },
  "cells": [
    {
      "cell_type": "code",
      "execution_count": 36,
      "metadata": {
        "id": "3eZ8sTQmGJos"
      },
      "outputs": [],
      "source": [
        "# Imported Libraries\n",
        "import pandas as pd\n",
        "import numpy as np\n",
        "import matplotlib.pyplot as plt\n",
        "from sklearn.feature_extraction.text import TfidfVectorizer\n",
        "from sklearn.cluster import KMeans\n"
      ]
    },
    {
      "cell_type": "code",
      "source": [
        "#Converted CSV file into Data Frame Using Pandas Library\n",
        "df =pd.read_csv(\"/content/combined_data (2).csv\")\n",
        "df.head(6)"
      ],
      "metadata": {
        "colab": {
          "base_uri": "https://localhost:8080/",
          "height": 403
        },
        "id": "GuBevxzqGmgH",
        "outputId": "7c0d00a4-5d17-4f84-d080-d0892dee1a1b"
      },
      "execution_count": 37,
      "outputs": [
        {
          "output_type": "execute_result",
          "data": {
            "text/plain": [
              "    Inspection   Open Date     SIC  \\\n",
              "0  1626247.015  10/03/2022     NaN   \n",
              "1  1625678.015  10/04/2022     NaN   \n",
              "2  1625642.015  09/30/2022     NaN   \n",
              "3  1625608.015  09/30/2022     NaN   \n",
              "4  1625570.015  09/30/2022  1799.0   \n",
              "5  1625399.015  09/29/2022     NaN   \n",
              "\n",
              "                               Establishment Name  \\\n",
              "0              Stellantis Sterling Stamping Plant   \n",
              "1  Penguin Random House Llc - Crawfordsville Dist   \n",
              "2                               Perdue Foods, Llc   \n",
              "3                      Taylor Communications Inc.   \n",
              "4    152893 - Blusky Restoration Contractors, Llc   \n",
              "5                    Samuel, Son & Co. (Usa) Inc.   \n",
              "\n",
              "                                         description  \\\n",
              "0  At 4:00 pm on September 30, 2022, an employee ...   \n",
              "1  At 7:45 p.m. on September 30, 2022, an employe...   \n",
              "2  At 7:00 a.m. on September 30, 2022, an employe...   \n",
              "3  At 1:00 a.m. on September 29, 2022, an employe...   \n",
              "4  At 2:30 p.m. on September 29, 2022, an employe...   \n",
              "5  At 4:00 a.m. on September 29, 2022, an employe...   \n",
              "\n",
              "                                            keywords  Employee #   Age Sex  \\\n",
              "0  blunt force, blunt force trauma, fall, fall pr...           1  67.0   M   \n",
              "1  blunt force, blunt force trauma, driver, forkl...           1  29.0   M   \n",
              "2  abdomen, asphyxiated, crushed, defective equip...           1  51.0   M   \n",
              "3  brain, head, hemorrhage, loss of consciousness...           1  50.0   M   \n",
              "4  blunt force, blunt force trauma, construction,...           1  59.0   M   \n",
              "5  asphyxiated, blunt force, blunt force trauma, ...           1  42.0   M   \n",
              "\n",
              "     Degree  Nature                                        Occupation  \\\n",
              "0  Fatality     NaN                                               NaN   \n",
              "1  Fatality     NaN  Industrial truck and tractor equipment operators   \n",
              "2  Fatality     NaN                  Helpers, mechanics and repairers   \n",
              "3  Fatality     NaN                                               NaN   \n",
              "4  Fatality     NaN                           Occupation not reported   \n",
              "5  Fatality     NaN                                               NaN   \n",
              "\n",
              "  Construction  \n",
              "0          NaN  \n",
              "1          NaN  \n",
              "2          NaN  \n",
              "3          NaN  \n",
              "4          NaN  \n",
              "5          NaN  "
            ],
            "text/html": [
              "\n",
              "  <div id=\"df-4bc0ed5a-38ba-4768-9d77-609d66cfaf80\">\n",
              "    <div class=\"colab-df-container\">\n",
              "      <div>\n",
              "<style scoped>\n",
              "    .dataframe tbody tr th:only-of-type {\n",
              "        vertical-align: middle;\n",
              "    }\n",
              "\n",
              "    .dataframe tbody tr th {\n",
              "        vertical-align: top;\n",
              "    }\n",
              "\n",
              "    .dataframe thead th {\n",
              "        text-align: right;\n",
              "    }\n",
              "</style>\n",
              "<table border=\"1\" class=\"dataframe\">\n",
              "  <thead>\n",
              "    <tr style=\"text-align: right;\">\n",
              "      <th></th>\n",
              "      <th>Inspection</th>\n",
              "      <th>Open Date</th>\n",
              "      <th>SIC</th>\n",
              "      <th>Establishment Name</th>\n",
              "      <th>description</th>\n",
              "      <th>keywords</th>\n",
              "      <th>Employee #</th>\n",
              "      <th>Age</th>\n",
              "      <th>Sex</th>\n",
              "      <th>Degree</th>\n",
              "      <th>Nature</th>\n",
              "      <th>Occupation</th>\n",
              "      <th>Construction</th>\n",
              "    </tr>\n",
              "  </thead>\n",
              "  <tbody>\n",
              "    <tr>\n",
              "      <th>0</th>\n",
              "      <td>1626247.015</td>\n",
              "      <td>10/03/2022</td>\n",
              "      <td>NaN</td>\n",
              "      <td>Stellantis Sterling Stamping Plant</td>\n",
              "      <td>At 4:00 pm on September 30, 2022, an employee ...</td>\n",
              "      <td>blunt force, blunt force trauma, fall, fall pr...</td>\n",
              "      <td>1</td>\n",
              "      <td>67.0</td>\n",
              "      <td>M</td>\n",
              "      <td>Fatality</td>\n",
              "      <td>NaN</td>\n",
              "      <td>NaN</td>\n",
              "      <td>NaN</td>\n",
              "    </tr>\n",
              "    <tr>\n",
              "      <th>1</th>\n",
              "      <td>1625678.015</td>\n",
              "      <td>10/04/2022</td>\n",
              "      <td>NaN</td>\n",
              "      <td>Penguin Random House Llc - Crawfordsville Dist</td>\n",
              "      <td>At 7:45 p.m. on September 30, 2022, an employe...</td>\n",
              "      <td>blunt force, blunt force trauma, driver, forkl...</td>\n",
              "      <td>1</td>\n",
              "      <td>29.0</td>\n",
              "      <td>M</td>\n",
              "      <td>Fatality</td>\n",
              "      <td>NaN</td>\n",
              "      <td>Industrial truck and tractor equipment operators</td>\n",
              "      <td>NaN</td>\n",
              "    </tr>\n",
              "    <tr>\n",
              "      <th>2</th>\n",
              "      <td>1625642.015</td>\n",
              "      <td>09/30/2022</td>\n",
              "      <td>NaN</td>\n",
              "      <td>Perdue Foods, Llc</td>\n",
              "      <td>At 7:00 a.m. on September 30, 2022, an employe...</td>\n",
              "      <td>abdomen, asphyxiated, crushed, defective equip...</td>\n",
              "      <td>1</td>\n",
              "      <td>51.0</td>\n",
              "      <td>M</td>\n",
              "      <td>Fatality</td>\n",
              "      <td>NaN</td>\n",
              "      <td>Helpers, mechanics and repairers</td>\n",
              "      <td>NaN</td>\n",
              "    </tr>\n",
              "    <tr>\n",
              "      <th>3</th>\n",
              "      <td>1625608.015</td>\n",
              "      <td>09/30/2022</td>\n",
              "      <td>NaN</td>\n",
              "      <td>Taylor Communications Inc.</td>\n",
              "      <td>At 1:00 a.m. on September 29, 2022, an employe...</td>\n",
              "      <td>brain, head, hemorrhage, loss of consciousness...</td>\n",
              "      <td>1</td>\n",
              "      <td>50.0</td>\n",
              "      <td>M</td>\n",
              "      <td>Fatality</td>\n",
              "      <td>NaN</td>\n",
              "      <td>NaN</td>\n",
              "      <td>NaN</td>\n",
              "    </tr>\n",
              "    <tr>\n",
              "      <th>4</th>\n",
              "      <td>1625570.015</td>\n",
              "      <td>09/30/2022</td>\n",
              "      <td>1799.0</td>\n",
              "      <td>152893 - Blusky Restoration Contractors, Llc</td>\n",
              "      <td>At 2:30 p.m. on September 29, 2022, an employe...</td>\n",
              "      <td>blunt force, blunt force trauma, construction,...</td>\n",
              "      <td>1</td>\n",
              "      <td>59.0</td>\n",
              "      <td>M</td>\n",
              "      <td>Fatality</td>\n",
              "      <td>NaN</td>\n",
              "      <td>Occupation not reported</td>\n",
              "      <td>NaN</td>\n",
              "    </tr>\n",
              "    <tr>\n",
              "      <th>5</th>\n",
              "      <td>1625399.015</td>\n",
              "      <td>09/29/2022</td>\n",
              "      <td>NaN</td>\n",
              "      <td>Samuel, Son &amp; Co. (Usa) Inc.</td>\n",
              "      <td>At 4:00 a.m. on September 29, 2022, an employe...</td>\n",
              "      <td>asphyxiated, blunt force, blunt force trauma, ...</td>\n",
              "      <td>1</td>\n",
              "      <td>42.0</td>\n",
              "      <td>M</td>\n",
              "      <td>Fatality</td>\n",
              "      <td>NaN</td>\n",
              "      <td>NaN</td>\n",
              "      <td>NaN</td>\n",
              "    </tr>\n",
              "  </tbody>\n",
              "</table>\n",
              "</div>\n",
              "      <button class=\"colab-df-convert\" onclick=\"convertToInteractive('df-4bc0ed5a-38ba-4768-9d77-609d66cfaf80')\"\n",
              "              title=\"Convert this dataframe to an interactive table.\"\n",
              "              style=\"display:none;\">\n",
              "        \n",
              "  <svg xmlns=\"http://www.w3.org/2000/svg\" height=\"24px\"viewBox=\"0 0 24 24\"\n",
              "       width=\"24px\">\n",
              "    <path d=\"M0 0h24v24H0V0z\" fill=\"none\"/>\n",
              "    <path d=\"M18.56 5.44l.94 2.06.94-2.06 2.06-.94-2.06-.94-.94-2.06-.94 2.06-2.06.94zm-11 1L8.5 8.5l.94-2.06 2.06-.94-2.06-.94L8.5 2.5l-.94 2.06-2.06.94zm10 10l.94 2.06.94-2.06 2.06-.94-2.06-.94-.94-2.06-.94 2.06-2.06.94z\"/><path d=\"M17.41 7.96l-1.37-1.37c-.4-.4-.92-.59-1.43-.59-.52 0-1.04.2-1.43.59L10.3 9.45l-7.72 7.72c-.78.78-.78 2.05 0 2.83L4 21.41c.39.39.9.59 1.41.59.51 0 1.02-.2 1.41-.59l7.78-7.78 2.81-2.81c.8-.78.8-2.07 0-2.86zM5.41 20L4 18.59l7.72-7.72 1.47 1.35L5.41 20z\"/>\n",
              "  </svg>\n",
              "      </button>\n",
              "      \n",
              "  <style>\n",
              "    .colab-df-container {\n",
              "      display:flex;\n",
              "      flex-wrap:wrap;\n",
              "      gap: 12px;\n",
              "    }\n",
              "\n",
              "    .colab-df-convert {\n",
              "      background-color: #E8F0FE;\n",
              "      border: none;\n",
              "      border-radius: 50%;\n",
              "      cursor: pointer;\n",
              "      display: none;\n",
              "      fill: #1967D2;\n",
              "      height: 32px;\n",
              "      padding: 0 0 0 0;\n",
              "      width: 32px;\n",
              "    }\n",
              "\n",
              "    .colab-df-convert:hover {\n",
              "      background-color: #E2EBFA;\n",
              "      box-shadow: 0px 1px 2px rgba(60, 64, 67, 0.3), 0px 1px 3px 1px rgba(60, 64, 67, 0.15);\n",
              "      fill: #174EA6;\n",
              "    }\n",
              "\n",
              "    [theme=dark] .colab-df-convert {\n",
              "      background-color: #3B4455;\n",
              "      fill: #D2E3FC;\n",
              "    }\n",
              "\n",
              "    [theme=dark] .colab-df-convert:hover {\n",
              "      background-color: #434B5C;\n",
              "      box-shadow: 0px 1px 3px 1px rgba(0, 0, 0, 0.15);\n",
              "      filter: drop-shadow(0px 1px 2px rgba(0, 0, 0, 0.3));\n",
              "      fill: #FFFFFF;\n",
              "    }\n",
              "  </style>\n",
              "\n",
              "      <script>\n",
              "        const buttonEl =\n",
              "          document.querySelector('#df-4bc0ed5a-38ba-4768-9d77-609d66cfaf80 button.colab-df-convert');\n",
              "        buttonEl.style.display =\n",
              "          google.colab.kernel.accessAllowed ? 'block' : 'none';\n",
              "\n",
              "        async function convertToInteractive(key) {\n",
              "          const element = document.querySelector('#df-4bc0ed5a-38ba-4768-9d77-609d66cfaf80');\n",
              "          const dataTable =\n",
              "            await google.colab.kernel.invokeFunction('convertToInteractive',\n",
              "                                                     [key], {});\n",
              "          if (!dataTable) return;\n",
              "\n",
              "          const docLinkHtml = 'Like what you see? Visit the ' +\n",
              "            '<a target=\"_blank\" href=https://colab.research.google.com/notebooks/data_table.ipynb>data table notebook</a>'\n",
              "            + ' to learn more about interactive tables.';\n",
              "          element.innerHTML = '';\n",
              "          dataTable['output_type'] = 'display_data';\n",
              "          await google.colab.output.renderOutput(dataTable, element);\n",
              "          const docLink = document.createElement('div');\n",
              "          docLink.innerHTML = docLinkHtml;\n",
              "          element.appendChild(docLink);\n",
              "        }\n",
              "      </script>\n",
              "    </div>\n",
              "  </div>\n",
              "  "
            ]
          },
          "metadata": {},
          "execution_count": 37
        }
      ]
    },
    {
      "cell_type": "code",
      "source": [
        "# Data Information\n",
        "df.info()"
      ],
      "metadata": {
        "colab": {
          "base_uri": "https://localhost:8080/"
        },
        "id": "ODQY1B2qJTT3",
        "outputId": "80c003e8-e33a-4bed-bf6c-76bb21f5cd73"
      },
      "execution_count": 38,
      "outputs": [
        {
          "output_type": "stream",
          "name": "stdout",
          "text": [
            "<class 'pandas.core.frame.DataFrame'>\n",
            "RangeIndex: 26266 entries, 0 to 26265\n",
            "Data columns (total 13 columns):\n",
            " #   Column              Non-Null Count  Dtype  \n",
            "---  ------              --------------  -----  \n",
            " 0   Inspection          26266 non-null  float64\n",
            " 1   Open Date           26266 non-null  object \n",
            " 2   SIC                 1382 non-null   float64\n",
            " 3   Establishment Name  26266 non-null  object \n",
            " 4   description         26236 non-null  object \n",
            " 5   keywords            26196 non-null  object \n",
            " 6   Employee #          26266 non-null  int64  \n",
            " 7   Age                 26235 non-null  float64\n",
            " 8   Sex                 26266 non-null  object \n",
            " 9   Degree              26266 non-null  object \n",
            " 10  Nature              0 non-null      float64\n",
            " 11  Occupation          21229 non-null  object \n",
            " 12  Construction        4227 non-null   object \n",
            "dtypes: float64(4), int64(1), object(8)\n",
            "memory usage: 2.6+ MB\n"
          ]
        }
      ]
    },
    {
      "cell_type": "code",
      "source": [
        "#Checking the Null Values in the Dataset\n",
        "df.isnull().sum()"
      ],
      "metadata": {
        "colab": {
          "base_uri": "https://localhost:8080/"
        },
        "id": "5We4EcMHJ5Hq",
        "outputId": "5f2e7de1-9b78-4ca4-9564-d90d21ad8fc2"
      },
      "execution_count": 39,
      "outputs": [
        {
          "output_type": "execute_result",
          "data": {
            "text/plain": [
              "Inspection                0\n",
              "Open Date                 0\n",
              "SIC                   24884\n",
              "Establishment Name        0\n",
              "description              30\n",
              "keywords                 70\n",
              "Employee #                0\n",
              "Age                      31\n",
              "Sex                       0\n",
              "Degree                    0\n",
              "Nature                26266\n",
              "Occupation             5037\n",
              "Construction          22039\n",
              "dtype: int64"
            ]
          },
          "metadata": {},
          "execution_count": 39
        }
      ]
    },
    {
      "cell_type": "code",
      "source": [
        "df['keywords']"
      ],
      "metadata": {
        "colab": {
          "base_uri": "https://localhost:8080/"
        },
        "id": "3yVJTSkXSr3D",
        "outputId": "ccc3ab95-1a99-4953-9a89-a9cd57a3f6e3"
      },
      "execution_count": 40,
      "outputs": [
        {
          "output_type": "execute_result",
          "data": {
            "text/plain": [
              "0        blunt force, blunt force trauma, fall, fall pr...\n",
              "1        blunt force, blunt force trauma, driver, forkl...\n",
              "2        abdomen, asphyxiated, crushed, defective equip...\n",
              "3        brain, head, hemorrhage, loss of consciousness...\n",
              "4        blunt force, blunt force trauma, construction,...\n",
              "                               ...                        \n",
              "26261    amputation, cleaning, finger, point of operati...\n",
              "26262    asphalt, ear, eye, fall, fracture, golf cart, ...\n",
              "26263                                                  NaN\n",
              "26264    construction, equipment failure, fall, fall pr...\n",
              "26265    fracture, head, laceration, neck, steel, struc...\n",
              "Name: keywords, Length: 26266, dtype: object"
            ]
          },
          "metadata": {},
          "execution_count": 40
        }
      ]
    },
    {
      "cell_type": "code",
      "source": [
        "#Columns in the Dataset\n",
        "df.columns"
      ],
      "metadata": {
        "colab": {
          "base_uri": "https://localhost:8080/"
        },
        "id": "P-Wtwg1VO2cg",
        "outputId": "b8c40564-c3b4-4c66-f74d-13bb01cccecb"
      },
      "execution_count": 41,
      "outputs": [
        {
          "output_type": "execute_result",
          "data": {
            "text/plain": [
              "Index(['Inspection', 'Open Date', 'SIC', 'Establishment Name', 'description',\n",
              "       'keywords', 'Employee #', 'Age', 'Sex', 'Degree', 'Nature',\n",
              "       'Occupation', 'Construction'],\n",
              "      dtype='object')"
            ]
          },
          "metadata": {},
          "execution_count": 41
        }
      ]
    },
    {
      "cell_type": "code",
      "source": [
        "features = ['keywords']"
      ],
      "metadata": {
        "id": "QfM7VDqHPMaN"
      },
      "execution_count": 42,
      "outputs": []
    },
    {
      "cell_type": "code",
      "source": [
        "df = df.dropna(subset = features)"
      ],
      "metadata": {
        "id": "ub1OuqByC4cO"
      },
      "execution_count": 43,
      "outputs": []
    },
    {
      "cell_type": "code",
      "source": [
        "df.isnull().sum()"
      ],
      "metadata": {
        "colab": {
          "base_uri": "https://localhost:8080/"
        },
        "id": "TOUkpnjNC65f",
        "outputId": "dd92f59b-67c2-4e8d-c724-962c599be504"
      },
      "execution_count": 44,
      "outputs": [
        {
          "output_type": "execute_result",
          "data": {
            "text/plain": [
              "Inspection                0\n",
              "Open Date                 0\n",
              "SIC                   24823\n",
              "Establishment Name        0\n",
              "description               0\n",
              "keywords                  0\n",
              "Employee #                0\n",
              "Age                      30\n",
              "Sex                       0\n",
              "Degree                    0\n",
              "Nature                26196\n",
              "Occupation             5024\n",
              "Construction          21971\n",
              "dtype: int64"
            ]
          },
          "metadata": {},
          "execution_count": 44
        }
      ]
    },
    {
      "cell_type": "code",
      "source": [
        "from sklearn.feature_extraction.text import TfidfVectorizer\n",
        "from sklearn.cluster import KMeans\n",
        "from sklearn.metrics import silhouette_score\n",
        "\n",
        "import matplotlib.pyplot as plt\n",
        "import seaborn as sns\n",
        "%matplotlib inline"
      ],
      "metadata": {
        "id": "IoabL1PP_Pzp"
      },
      "execution_count": 45,
      "outputs": []
    },
    {
      "cell_type": "code",
      "source": [
        "import re\n",
        "import string\n",
        "import nltk\n",
        "from nltk.corpus import stopwords\n",
        "nltk.download('stopwords')"
      ],
      "metadata": {
        "colab": {
          "base_uri": "https://localhost:8080/"
        },
        "id": "1DcqQvPPNT9j",
        "outputId": "75d663d4-c783-400d-b5c6-96f41a939fc4"
      },
      "execution_count": 46,
      "outputs": [
        {
          "output_type": "stream",
          "name": "stderr",
          "text": [
            "[nltk_data] Downloading package stopwords to /root/nltk_data...\n",
            "[nltk_data]   Package stopwords is already up-to-date!\n"
          ]
        },
        {
          "output_type": "execute_result",
          "data": {
            "text/plain": [
              "True"
            ]
          },
          "metadata": {},
          "execution_count": 46
        }
      ]
    },
    {
      "cell_type": "code",
      "source": [
        "def preprocess_text(text: str, remove_stopwords: bool) -> str:\n",
        "    \"\"\"This utility function sanitizes a string by:\n",
        "    - removing links\n",
        "    - removing special characters\n",
        "    - removing numbers\n",
        "    - removing stopwords\n",
        "    - transforming in lowercase\n",
        "    - removing excessive whitespaces\n",
        "    Args:\n",
        "        text (str): the input text you want to clean\n",
        "        remove_stopwords (bool): whether or not to remove stopwords\n",
        "    Returns:\n",
        "        str: the cleaned text\n",
        "    \"\"\"\n",
        "\n",
        "    # remove links\n",
        "    text = re.sub(r\"http\\S+\", \"\", text)\n",
        "    # remove special chars and numbers\n",
        "    text = re.sub(\"[^A-Za-z]+\", \" \", text)\n",
        "    # remove stopwords\n",
        "    if remove_stopwords:\n",
        "        # 1. tokenize\n",
        "        tokens = nltk.word_tokenize(text)\n",
        "        # 2. check if stopword\n",
        "        tokens = [w for w in tokens if not w.lower() in stopwords.words(\"english\")]\n",
        "        # 3. join back together\n",
        "        text = \" \".join(tokens)\n",
        "    # return text in lower case and stripped of whitespaces\n",
        "    text = text.lower().strip()\n",
        "    return text"
      ],
      "metadata": {
        "id": "g8ndfJCyNT_U"
      },
      "execution_count": 47,
      "outputs": []
    },
    {
      "cell_type": "code",
      "source": [
        "df['cleaned'] = df['keywords'].apply(lambda x: preprocess_text(x, remove_stopwords=True))"
      ],
      "metadata": {
        "id": "bWeIOfr4NUBd"
      },
      "execution_count": 48,
      "outputs": []
    },
    {
      "cell_type": "code",
      "source": [
        "df.head(3)"
      ],
      "metadata": {
        "colab": {
          "base_uri": "https://localhost:8080/",
          "height": 292
        },
        "id": "feEzhMUjNUFp",
        "outputId": "bbd33363-9342-47b1-907d-c262772bed81"
      },
      "execution_count": 49,
      "outputs": [
        {
          "output_type": "execute_result",
          "data": {
            "text/plain": [
              "    Inspection   Open Date  SIC  \\\n",
              "0  1626247.015  10/03/2022  NaN   \n",
              "1  1625678.015  10/04/2022  NaN   \n",
              "2  1625642.015  09/30/2022  NaN   \n",
              "\n",
              "                               Establishment Name  \\\n",
              "0              Stellantis Sterling Stamping Plant   \n",
              "1  Penguin Random House Llc - Crawfordsville Dist   \n",
              "2                               Perdue Foods, Llc   \n",
              "\n",
              "                                         description  \\\n",
              "0  At 4:00 pm on September 30, 2022, an employee ...   \n",
              "1  At 7:45 p.m. on September 30, 2022, an employe...   \n",
              "2  At 7:00 a.m. on September 30, 2022, an employe...   \n",
              "\n",
              "                                            keywords  Employee #   Age Sex  \\\n",
              "0  blunt force, blunt force trauma, fall, fall pr...           1  67.0   M   \n",
              "1  blunt force, blunt force trauma, driver, forkl...           1  29.0   M   \n",
              "2  abdomen, asphyxiated, crushed, defective equip...           1  51.0   M   \n",
              "\n",
              "     Degree  Nature                                        Occupation  \\\n",
              "0  Fatality     NaN                                               NaN   \n",
              "1  Fatality     NaN  Industrial truck and tractor equipment operators   \n",
              "2  Fatality     NaN                  Helpers, mechanics and repairers   \n",
              "\n",
              "  Construction                                            cleaned  \n",
              "0          NaN  blunt force blunt force trauma fall fall prote...  \n",
              "1          NaN  blunt force blunt force trauma driver forklift...  \n",
              "2          NaN  abdomen asphyxiated crushed defective equipmen...  "
            ],
            "text/html": [
              "\n",
              "  <div id=\"df-22e0ddba-fdaf-44e4-b465-d25130173bae\">\n",
              "    <div class=\"colab-df-container\">\n",
              "      <div>\n",
              "<style scoped>\n",
              "    .dataframe tbody tr th:only-of-type {\n",
              "        vertical-align: middle;\n",
              "    }\n",
              "\n",
              "    .dataframe tbody tr th {\n",
              "        vertical-align: top;\n",
              "    }\n",
              "\n",
              "    .dataframe thead th {\n",
              "        text-align: right;\n",
              "    }\n",
              "</style>\n",
              "<table border=\"1\" class=\"dataframe\">\n",
              "  <thead>\n",
              "    <tr style=\"text-align: right;\">\n",
              "      <th></th>\n",
              "      <th>Inspection</th>\n",
              "      <th>Open Date</th>\n",
              "      <th>SIC</th>\n",
              "      <th>Establishment Name</th>\n",
              "      <th>description</th>\n",
              "      <th>keywords</th>\n",
              "      <th>Employee #</th>\n",
              "      <th>Age</th>\n",
              "      <th>Sex</th>\n",
              "      <th>Degree</th>\n",
              "      <th>Nature</th>\n",
              "      <th>Occupation</th>\n",
              "      <th>Construction</th>\n",
              "      <th>cleaned</th>\n",
              "    </tr>\n",
              "  </thead>\n",
              "  <tbody>\n",
              "    <tr>\n",
              "      <th>0</th>\n",
              "      <td>1626247.015</td>\n",
              "      <td>10/03/2022</td>\n",
              "      <td>NaN</td>\n",
              "      <td>Stellantis Sterling Stamping Plant</td>\n",
              "      <td>At 4:00 pm on September 30, 2022, an employee ...</td>\n",
              "      <td>blunt force, blunt force trauma, fall, fall pr...</td>\n",
              "      <td>1</td>\n",
              "      <td>67.0</td>\n",
              "      <td>M</td>\n",
              "      <td>Fatality</td>\n",
              "      <td>NaN</td>\n",
              "      <td>NaN</td>\n",
              "      <td>NaN</td>\n",
              "      <td>blunt force blunt force trauma fall fall prote...</td>\n",
              "    </tr>\n",
              "    <tr>\n",
              "      <th>1</th>\n",
              "      <td>1625678.015</td>\n",
              "      <td>10/04/2022</td>\n",
              "      <td>NaN</td>\n",
              "      <td>Penguin Random House Llc - Crawfordsville Dist</td>\n",
              "      <td>At 7:45 p.m. on September 30, 2022, an employe...</td>\n",
              "      <td>blunt force, blunt force trauma, driver, forkl...</td>\n",
              "      <td>1</td>\n",
              "      <td>29.0</td>\n",
              "      <td>M</td>\n",
              "      <td>Fatality</td>\n",
              "      <td>NaN</td>\n",
              "      <td>Industrial truck and tractor equipment operators</td>\n",
              "      <td>NaN</td>\n",
              "      <td>blunt force blunt force trauma driver forklift...</td>\n",
              "    </tr>\n",
              "    <tr>\n",
              "      <th>2</th>\n",
              "      <td>1625642.015</td>\n",
              "      <td>09/30/2022</td>\n",
              "      <td>NaN</td>\n",
              "      <td>Perdue Foods, Llc</td>\n",
              "      <td>At 7:00 a.m. on September 30, 2022, an employe...</td>\n",
              "      <td>abdomen, asphyxiated, crushed, defective equip...</td>\n",
              "      <td>1</td>\n",
              "      <td>51.0</td>\n",
              "      <td>M</td>\n",
              "      <td>Fatality</td>\n",
              "      <td>NaN</td>\n",
              "      <td>Helpers, mechanics and repairers</td>\n",
              "      <td>NaN</td>\n",
              "      <td>abdomen asphyxiated crushed defective equipmen...</td>\n",
              "    </tr>\n",
              "  </tbody>\n",
              "</table>\n",
              "</div>\n",
              "      <button class=\"colab-df-convert\" onclick=\"convertToInteractive('df-22e0ddba-fdaf-44e4-b465-d25130173bae')\"\n",
              "              title=\"Convert this dataframe to an interactive table.\"\n",
              "              style=\"display:none;\">\n",
              "        \n",
              "  <svg xmlns=\"http://www.w3.org/2000/svg\" height=\"24px\"viewBox=\"0 0 24 24\"\n",
              "       width=\"24px\">\n",
              "    <path d=\"M0 0h24v24H0V0z\" fill=\"none\"/>\n",
              "    <path d=\"M18.56 5.44l.94 2.06.94-2.06 2.06-.94-2.06-.94-.94-2.06-.94 2.06-2.06.94zm-11 1L8.5 8.5l.94-2.06 2.06-.94-2.06-.94L8.5 2.5l-.94 2.06-2.06.94zm10 10l.94 2.06.94-2.06 2.06-.94-2.06-.94-.94-2.06-.94 2.06-2.06.94z\"/><path d=\"M17.41 7.96l-1.37-1.37c-.4-.4-.92-.59-1.43-.59-.52 0-1.04.2-1.43.59L10.3 9.45l-7.72 7.72c-.78.78-.78 2.05 0 2.83L4 21.41c.39.39.9.59 1.41.59.51 0 1.02-.2 1.41-.59l7.78-7.78 2.81-2.81c.8-.78.8-2.07 0-2.86zM5.41 20L4 18.59l7.72-7.72 1.47 1.35L5.41 20z\"/>\n",
              "  </svg>\n",
              "      </button>\n",
              "      \n",
              "  <style>\n",
              "    .colab-df-container {\n",
              "      display:flex;\n",
              "      flex-wrap:wrap;\n",
              "      gap: 12px;\n",
              "    }\n",
              "\n",
              "    .colab-df-convert {\n",
              "      background-color: #E8F0FE;\n",
              "      border: none;\n",
              "      border-radius: 50%;\n",
              "      cursor: pointer;\n",
              "      display: none;\n",
              "      fill: #1967D2;\n",
              "      height: 32px;\n",
              "      padding: 0 0 0 0;\n",
              "      width: 32px;\n",
              "    }\n",
              "\n",
              "    .colab-df-convert:hover {\n",
              "      background-color: #E2EBFA;\n",
              "      box-shadow: 0px 1px 2px rgba(60, 64, 67, 0.3), 0px 1px 3px 1px rgba(60, 64, 67, 0.15);\n",
              "      fill: #174EA6;\n",
              "    }\n",
              "\n",
              "    [theme=dark] .colab-df-convert {\n",
              "      background-color: #3B4455;\n",
              "      fill: #D2E3FC;\n",
              "    }\n",
              "\n",
              "    [theme=dark] .colab-df-convert:hover {\n",
              "      background-color: #434B5C;\n",
              "      box-shadow: 0px 1px 3px 1px rgba(0, 0, 0, 0.15);\n",
              "      filter: drop-shadow(0px 1px 2px rgba(0, 0, 0, 0.3));\n",
              "      fill: #FFFFFF;\n",
              "    }\n",
              "  </style>\n",
              "\n",
              "      <script>\n",
              "        const buttonEl =\n",
              "          document.querySelector('#df-22e0ddba-fdaf-44e4-b465-d25130173bae button.colab-df-convert');\n",
              "        buttonEl.style.display =\n",
              "          google.colab.kernel.accessAllowed ? 'block' : 'none';\n",
              "\n",
              "        async function convertToInteractive(key) {\n",
              "          const element = document.querySelector('#df-22e0ddba-fdaf-44e4-b465-d25130173bae');\n",
              "          const dataTable =\n",
              "            await google.colab.kernel.invokeFunction('convertToInteractive',\n",
              "                                                     [key], {});\n",
              "          if (!dataTable) return;\n",
              "\n",
              "          const docLinkHtml = 'Like what you see? Visit the ' +\n",
              "            '<a target=\"_blank\" href=https://colab.research.google.com/notebooks/data_table.ipynb>data table notebook</a>'\n",
              "            + ' to learn more about interactive tables.';\n",
              "          element.innerHTML = '';\n",
              "          dataTable['output_type'] = 'display_data';\n",
              "          await google.colab.output.renderOutput(dataTable, element);\n",
              "          const docLink = document.createElement('div');\n",
              "          docLink.innerHTML = docLinkHtml;\n",
              "          element.appendChild(docLink);\n",
              "        }\n",
              "      </script>\n",
              "    </div>\n",
              "  </div>\n",
              "  "
            ]
          },
          "metadata": {},
          "execution_count": 49
        }
      ]
    },
    {
      "cell_type": "code",
      "source": [
        "df['cleaned']\n"
      ],
      "metadata": {
        "colab": {
          "base_uri": "https://localhost:8080/"
        },
        "id": "TeNij4pfNUML",
        "outputId": "0eeedf78-a483-41d7-bf8e-398feb9848ee"
      },
      "execution_count": 50,
      "outputs": [
        {
          "output_type": "execute_result",
          "data": {
            "text/plain": [
              "0        blunt force blunt force trauma fall fall prote...\n",
              "1        blunt force blunt force trauma driver forklift...\n",
              "2        abdomen asphyxiated crushed defective equipmen...\n",
              "3        brain head hemorrhage loss consciousness mater...\n",
              "4        blunt force blunt force trauma construction fa...\n",
              "                               ...                        \n",
              "26260    dizziness emergency response high temperature ...\n",
              "26261    amputation cleaning finger point operation struck\n",
              "26262    asphalt ear eye fall fracture golf cart head l...\n",
              "26264    construction equipment failure fall fall prote...\n",
              "26265           fracture head laceration neck steel struck\n",
              "Name: cleaned, Length: 26196, dtype: object"
            ]
          },
          "metadata": {},
          "execution_count": 50
        }
      ]
    },
    {
      "cell_type": "code",
      "source": [
        "# initialize the vectorizer\n",
        "vectorizer = TfidfVectorizer(sublinear_tf=True, min_df=5, max_df=0.95)\n",
        "# fit_transform applies TF-IDF to clean texts - we save the array of vectors in X\n",
        "X = vectorizer.fit_transform(df['cleaned'])"
      ],
      "metadata": {
        "id": "YJaHKaqd_P8V"
      },
      "execution_count": 51,
      "outputs": []
    },
    {
      "cell_type": "code",
      "source": [
        "Sum_of_squared_distances = []\n",
        "K = range(1,10)\n",
        "for k in K:\n",
        "    km = KMeans(init=\"k-means++\", n_clusters=k)\n",
        "    km = km.fit(X)\n",
        "    Sum_of_squared_distances.append(km.inertia_)\n",
        "ax = sns.lineplot(x=K, y=Sum_of_squared_distances)\n",
        "ax.lines[0].set_linestyle(\"--\")\n",
        "plt.xlabel('k')\n",
        "plt.ylabel('Sum of Squared Distances')\n",
        "plt.title('Elbow Method For Optimal k')\n",
        "plt.show()"
      ],
      "metadata": {
        "colab": {
          "base_uri": "https://localhost:8080/",
          "height": 527
        },
        "id": "NkKuvTUGglFg",
        "outputId": "fa8265a5-42de-44f3-fc92-a0bfe14fe642"
      },
      "execution_count": 52,
      "outputs": [
        {
          "output_type": "stream",
          "name": "stderr",
          "text": [
            "/usr/local/lib/python3.9/dist-packages/sklearn/cluster/_kmeans.py:870: FutureWarning: The default value of `n_init` will change from 10 to 'auto' in 1.4. Set the value of `n_init` explicitly to suppress the warning\n",
            "  warnings.warn(\n"
          ]
        },
        {
          "output_type": "display_data",
          "data": {
            "text/plain": [
              "<Figure size 640x480 with 1 Axes>"
            ],
            "image/png": "[encoded data removed]"
          },
          "metadata": {}
        }
      ]
    },
    {
      "cell_type": "code",
      "source": [
        "from sklearn.cluster import KMeans\n",
        "\n",
        "# initialize kmeans with 3 centroids\n",
        "kmeans = KMeans(n_clusters= 3, random_state=42)\n",
        "# fit the model\n",
        "kmeans.fit(X)\n",
        "# store cluster labels in a variable\n",
        "clusters = kmeans.labels_"
      ],
      "metadata": {
        "colab": {
          "base_uri": "https://localhost:8080/"
        },
        "id": "zGBKXwt4PNHZ",
        "outputId": "b1d98b74-c86f-462d-cac6-b5ce43b7b103"
      },
      "execution_count": 53,
      "outputs": [
        {
          "output_type": "stream",
          "name": "stderr",
          "text": [
            "/usr/local/lib/python3.9/dist-packages/sklearn/cluster/_kmeans.py:870: FutureWarning: The default value of `n_init` will change from 10 to 'auto' in 1.4. Set the value of `n_init` explicitly to suppress the warning\n",
            "  warnings.warn(\n"
          ]
        }
      ]
    },
    {
      "cell_type": "code",
      "source": [
        "from sklearn.decomposition import PCA\n",
        "\n",
        "# initialize PCA with 2 components\n",
        "pca = PCA(n_components=2, random_state=42)\n",
        "# pass our X to the pca and store the reduced vectors into pca_vecs\n",
        "pca_vecs = pca.fit_transform(X.toarray())\n",
        "# save our two dimensions into x0 and x1\n",
        "x0 = pca_vecs[:, 0]\n",
        "x1 = pca_vecs[:, 1]"
      ],
      "metadata": {
        "id": "frbMWIiNPNJg"
      },
      "execution_count": 54,
      "outputs": []
    },
    {
      "cell_type": "code",
      "source": [
        "# assign clusters and pca vectors to our dataframe \n",
        "df['cluster'] = clusters\n",
        "df['x0'] = x0\n",
        "df['x1'] = x1"
      ],
      "metadata": {
        "id": "-tDfICchPNM-"
      },
      "execution_count": 55,
      "outputs": []
    },
    {
      "cell_type": "code",
      "source": [
        "from numba import none\n",
        "from sklearn.cluster import KMeans\n",
        "# initialize kmeans with 3 centroids\n",
        "kmeans = KMeans(n_clusters= 3, random_state= 42)\n",
        "# fit the model\n",
        "kmeans.fit(X)\n",
        "# store cluster labels in a variable\n",
        "clusters = kmeans.labels_"
      ],
      "metadata": {
        "colab": {
          "base_uri": "https://localhost:8080/"
        },
        "id": "SztE6znQPpIa",
        "outputId": "c0051d45-2de4-444b-d4f3-e95b55be42fe"
      },
      "execution_count": 56,
      "outputs": [
        {
          "output_type": "stream",
          "name": "stderr",
          "text": [
            "/usr/local/lib/python3.9/dist-packages/sklearn/cluster/_kmeans.py:870: FutureWarning: The default value of `n_init` will change from 10 to 'auto' in 1.4. Set the value of `n_init` explicitly to suppress the warning\n",
            "  warnings.warn(\n"
          ]
        }
      ]
    },
    {
      "cell_type": "code",
      "source": [
        "\n",
        "def get_top_keywords(n_terms):\n",
        "    \"\"\"This function returns the keywords for each centroid of the KMeans\"\"\"\n",
        "    df = pd.DataFrame(X.todense()).groupby(clusters).mean() # groups the TF-IDF vector by cluster\n",
        "    terms = vectorizer.get_feature_names_out() # access tf-idf terms\n",
        "    for i,r in df.iterrows():\n",
        "        print('\\nCluster {}'.format(i))\n",
        "        print(','.join([terms[t] for t in np.argsort(r)[-n_terms:]])) # for each row of the dataframe, find the n terms that have the highest tf idf score\n",
        "            \n",
        "get_top_keywords(20)"
      ],
      "metadata": {
        "colab": {
          "base_uri": "https://localhost:8080/"
        },
        "id": "g3elhvy8PpKT",
        "outputId": "36f95d96-3191-4cf8-cd63-1351d1b4311f"
      },
      "execution_count": 57,
      "outputs": [
        {
          "output_type": "stream",
          "name": "stdout",
          "text": [
            "\n",
            "Cluster 0\n",
            "caught,laceration,roof,burn,falling,trauma,object,ladder,truck,leg,crushed,protection,construction,vehicle,force,blunt,head,fracture,struck,fall\n",
            "\n",
            "Cluster 1\n",
            "belt,laceration,jammed,thumb,operator,guarding,saw,press,point,conveyor,partial,lockout,hand,blade,fingertip,machine,caught,finger,amputated,amputation\n",
            "\n",
            "Cluster 2\n",
            "flame,flagman,flagger,fingertip,fl,flammable,fitting,fireworks,firearm,fire,flash,fixed,machine,operator,chest,respiratory,infection,legionnaire,disease,infectious\n"
          ]
        }
      ]
    },
    {
      "cell_type": "code",
      "source": [
        "df['cluster']"
      ],
      "metadata": {
        "colab": {
          "base_uri": "https://localhost:8080/"
        },
        "id": "1-6sYtZemtUx",
        "outputId": "1e54ba2b-f784-4dbb-bd7f-a09ba11b0a35"
      },
      "execution_count": 58,
      "outputs": [
        {
          "output_type": "execute_result",
          "data": {
            "text/plain": [
              "0        0\n",
              "1        0\n",
              "2        0\n",
              "3        0\n",
              "4        0\n",
              "        ..\n",
              "26260    0\n",
              "26261    1\n",
              "26262    0\n",
              "26264    0\n",
              "26265    0\n",
              "Name: cluster, Length: 26196, dtype: int32"
            ]
          },
          "metadata": {},
          "execution_count": 58
        }
      ]
    },
    {
      "cell_type": "code",
      "source": [
        "# map clusters to appropriate labels \n",
        "cluster_map = {0: \"Falls\", 1: \"Struck by Object\", 2: \"Electrocutions\"}\n",
        "# apply mapping\n",
        "df['cluster'] = df['cluster'].map(cluster_map)"
      ],
      "metadata": {
        "id": "p9SGiHYiPpM0"
      },
      "execution_count": 59,
      "outputs": []
    },
    {
      "cell_type": "code",
      "source": [
        "df"
      ],
      "metadata": {
        "colab": {
          "base_uri": "https://localhost:8080/",
          "height": 1000
        },
        "id": "wI0WdoaqilP4",
        "outputId": "bf1dbeb6-3cf5-436e-cecd-ede28f54ee58"
      },
      "execution_count": 60,
      "outputs": [
        {
          "output_type": "execute_result",
          "data": {
            "text/plain": [
              "        Inspection   Open Date     SIC  \\\n",
              "0      1626247.015  10/03/2022     NaN   \n",
              "1      1625678.015  10/04/2022     NaN   \n",
              "2      1625642.015  09/30/2022     NaN   \n",
              "3      1625608.015  09/30/2022     NaN   \n",
              "4      1625570.015  09/30/2022  1799.0   \n",
              "...            ...         ...     ...   \n",
              "26260  1308198.015  04/12/2018     NaN   \n",
              "26261  1319125.015  05/29/2018     NaN   \n",
              "26262  1317114.015  05/15/2018     NaN   \n",
              "26264  1307533.015  04/10/2018     NaN   \n",
              "26265  1308340.015  04/12/2018     NaN   \n",
              "\n",
              "                                   Establishment Name  \\\n",
              "0                  Stellantis Sterling Stamping Plant   \n",
              "1      Penguin Random House Llc - Crawfordsville Dist   \n",
              "2                                   Perdue Foods, Llc   \n",
              "3                          Taylor Communications Inc.   \n",
              "4        152893 - Blusky Restoration Contractors, Llc   \n",
              "...                                               ...   \n",
              "26260                            Suntrust Banks, Inc.   \n",
              "26261                      Fantasy Cookie Corporation   \n",
              "26262                  Riverside County-Sheriffs Dept   \n",
              "26264                            Maragos Painting Llc   \n",
              "26265                              G & W Products Llc   \n",
              "\n",
              "                                             description  \\\n",
              "0      At 4:00 pm on September 30, 2022, an employee ...   \n",
              "1      At 7:45 p.m. on September 30, 2022, an employe...   \n",
              "2      At 7:00 a.m. on September 30, 2022, an employe...   \n",
              "3      At 1:00 a.m. on September 29, 2022, an employe...   \n",
              "4      At 2:30 p.m. on September 29, 2022, an employe...   \n",
              "...                                                  ...   \n",
              "26260  At 9:30 a.m. on April 10, 2018, Employee #1 ha...   \n",
              "26261  At 2:30 a.m. on April 10, 2019, Employee #1 wa...   \n",
              "26262  At 5:50 p.m. on April 10, 2018, Employee #1 wa...   \n",
              "26264  On April 10, 2018, during a safety inspection ...   \n",
              "26265  At 1:05 p.m. on April 9, 2018, Employee #1 was...   \n",
              "\n",
              "                                                keywords  Employee #   Age  \\\n",
              "0      blunt force, blunt force trauma, fall, fall pr...           1  67.0   \n",
              "1      blunt force, blunt force trauma, driver, forkl...           1  29.0   \n",
              "2      abdomen, asphyxiated, crushed, defective equip...           1  51.0   \n",
              "3      brain, head, hemorrhage, loss of consciousness...           1  50.0   \n",
              "4      blunt force, blunt force trauma, construction,...           1  59.0   \n",
              "...                                                  ...         ...   ...   \n",
              "26260  dizziness, emergency response, high temperatur...           1  45.0   \n",
              "26261  amputation, cleaning, finger, point of operati...           1  57.0   \n",
              "26262  asphalt, ear, eye, fall, fracture, golf cart, ...           1  30.0   \n",
              "26264  construction, equipment failure, fall, fall pr...           1  39.0   \n",
              "26265  fracture, head, laceration, neck, steel, struc...           1  56.0   \n",
              "\n",
              "      Sex                   Degree  Nature  \\\n",
              "0       M                 Fatality     NaN   \n",
              "1       M                 Fatality     NaN   \n",
              "2       M                 Fatality     NaN   \n",
              "3       M                 Fatality     NaN   \n",
              "4       M                 Fatality     NaN   \n",
              "...    ..                      ...     ...   \n",
              "26260   F                 Fatality     NaN   \n",
              "26261   M      Hospitalized injury     NaN   \n",
              "26262   F      Hospitalized injury     NaN   \n",
              "26264   M  Non Hospitalized injury     NaN   \n",
              "26265   M      Hospitalized injury     NaN   \n",
              "\n",
              "                                             Occupation  \\\n",
              "0                                                   NaN   \n",
              "1      Industrial truck and tractor equipment operators   \n",
              "2                      Helpers, mechanics and repairers   \n",
              "3                                                   NaN   \n",
              "4                               Occupation not reported   \n",
              "...                                                 ...   \n",
              "26260                                            Bakers   \n",
              "26261                                               NaN   \n",
              "26262                           Law Enforcement: Police   \n",
              "26264            Painters, construction and maintenance   \n",
              "26265                               Welders and cutters   \n",
              "\n",
              "                                            Construction  \\\n",
              "0                                                    NaN   \n",
              "1                                                    NaN   \n",
              "2                                                    NaN   \n",
              "3                                                    NaN   \n",
              "4                                                    NaN   \n",
              "...                                                  ...   \n",
              "26260                                                NaN   \n",
              "26261                                                NaN   \n",
              "26262                                                NaN   \n",
              "26264  FallDist: 6FallHt:6Cause: Interior painting an...   \n",
              "26265                                                NaN   \n",
              "\n",
              "                                                 cleaned           cluster  \\\n",
              "0      blunt force blunt force trauma fall fall prote...             Falls   \n",
              "1      blunt force blunt force trauma driver forklift...             Falls   \n",
              "2      abdomen asphyxiated crushed defective equipmen...             Falls   \n",
              "3      brain head hemorrhage loss consciousness mater...             Falls   \n",
              "4      blunt force blunt force trauma construction fa...             Falls   \n",
              "...                                                  ...               ...   \n",
              "26260  dizziness emergency response high temperature ...             Falls   \n",
              "26261  amputation cleaning finger point operation struck  Struck by Object   \n",
              "26262  asphalt ear eye fall fracture golf cart head l...             Falls   \n",
              "26264  construction equipment failure fall fall prote...             Falls   \n",
              "26265         fracture head laceration neck steel struck             Falls   \n",
              "\n",
              "             x0        x1  \n",
              "0     -0.176247 -0.224032  \n",
              "1     -0.187832 -0.161627  \n",
              "2     -0.169995  0.059144  \n",
              "3     -0.151037 -0.049161  \n",
              "4     -0.196861 -0.289497  \n",
              "...         ...       ...  \n",
              "26260 -0.141437 -0.017342  \n",
              "26261 -0.188499  0.271169  \n",
              "26262 -0.180827 -0.145607  \n",
              "26264 -0.184150 -0.199927  \n",
              "26265 -0.189018 -0.108084  \n",
              "\n",
              "[26196 rows x 17 columns]"
            ],
            "text/html": [
              "\n",
              "  <div id=\"df-ce704906-3f7f-4b4a-8639-fd41defbf029\">\n",
              "    <div class=\"colab-df-container\">\n",
              "      <div>\n",
              "<style scoped>\n",
              "    .dataframe tbody tr th:only-of-type {\n",
              "        vertical-align: middle;\n",
              "    }\n",
              "\n",
              "    .dataframe tbody tr th {\n",
              "        vertical-align: top;\n",
              "    }\n",
              "\n",
              "    .dataframe thead th {\n",
              "        text-align: right;\n",
              "    }\n",
              "</style>\n",
              "<table border=\"1\" class=\"dataframe\">\n",
              "  <thead>\n",
              "    <tr style=\"text-align: right;\">\n",
              "      <th></th>\n",
              "      <th>Inspection</th>\n",
              "      <th>Open Date</th>\n",
              "      <th>SIC</th>\n",
              "      <th>Establishment Name</th>\n",
              "      <th>description</th>\n",
              "      <th>keywords</th>\n",
              "      <th>Employee #</th>\n",
              "      <th>Age</th>\n",
              "      <th>Sex</th>\n",
              "      <th>Degree</th>\n",
              "      <th>Nature</th>\n",
              "      <th>Occupation</th>\n",
              "      <th>Construction</th>\n",
              "      <th>cleaned</th>\n",
              "      <th>cluster</th>\n",
              "      <th>x0</th>\n",
              "      <th>x1</th>\n",
              "    </tr>\n",
              "  </thead>\n",
              "  <tbody>\n",
              "    <tr>\n",
              "      <th>0</th>\n",
              "      <td>1626247.015</td>\n",
              "      <td>10/03/2022</td>\n",
              "      <td>NaN</td>\n",
              "      <td>Stellantis Sterling Stamping Plant</td>\n",
              "      <td>At 4:00 pm on September 30, 2022, an employee ...</td>\n",
              "      <td>blunt force, blunt force trauma, fall, fall pr...</td>\n",
              "      <td>1</td>\n",
              "      <td>67.0</td>\n",
              "      <td>M</td>\n",
              "      <td>Fatality</td>\n",
              "      <td>NaN</td>\n",
              "      <td>NaN</td>\n",
              "      <td>NaN</td>\n",
              "      <td>blunt force blunt force trauma fall fall prote...</td>\n",
              "      <td>Falls</td>\n",
              "      <td>-0.176247</td>\n",
              "      <td>-0.224032</td>\n",
              "    </tr>\n",
              "    <tr>\n",
              "      <th>1</th>\n",
              "      <td>1625678.015</td>\n",
              "      <td>10/04/2022</td>\n",
              "      <td>NaN</td>\n",
              "      <td>Penguin Random House Llc - Crawfordsville Dist</td>\n",
              "      <td>At 7:45 p.m. on September 30, 2022, an employe...</td>\n",
              "      <td>blunt force, blunt force trauma, driver, forkl...</td>\n",
              "      <td>1</td>\n",
              "      <td>29.0</td>\n",
              "      <td>M</td>\n",
              "      <td>Fatality</td>\n",
              "      <td>NaN</td>\n",
              "      <td>Industrial truck and tractor equipment operators</td>\n",
              "      <td>NaN</td>\n",
              "      <td>blunt force blunt force trauma driver forklift...</td>\n",
              "      <td>Falls</td>\n",
              "      <td>-0.187832</td>\n",
              "      <td>-0.161627</td>\n",
              "    </tr>\n",
              "    <tr>\n",
              "      <th>2</th>\n",
              "      <td>1625642.015</td>\n",
              "      <td>09/30/2022</td>\n",
              "      <td>NaN</td>\n",
              "      <td>Perdue Foods, Llc</td>\n",
              "      <td>At 7:00 a.m. on September 30, 2022, an employe...</td>\n",
              "      <td>abdomen, asphyxiated, crushed, defective equip...</td>\n",
              "      <td>1</td>\n",
              "      <td>51.0</td>\n",
              "      <td>M</td>\n",
              "      <td>Fatality</td>\n",
              "      <td>NaN</td>\n",
              "      <td>Helpers, mechanics and repairers</td>\n",
              "      <td>NaN</td>\n",
              "      <td>abdomen asphyxiated crushed defective equipmen...</td>\n",
              "      <td>Falls</td>\n",
              "      <td>-0.169995</td>\n",
              "      <td>0.059144</td>\n",
              "    </tr>\n",
              "    <tr>\n",
              "      <th>3</th>\n",
              "      <td>1625608.015</td>\n",
              "      <td>09/30/2022</td>\n",
              "      <td>NaN</td>\n",
              "      <td>Taylor Communications Inc.</td>\n",
              "      <td>At 1:00 a.m. on September 29, 2022, an employe...</td>\n",
              "      <td>brain, head, hemorrhage, loss of consciousness...</td>\n",
              "      <td>1</td>\n",
              "      <td>50.0</td>\n",
              "      <td>M</td>\n",
              "      <td>Fatality</td>\n",
              "      <td>NaN</td>\n",
              "      <td>NaN</td>\n",
              "      <td>NaN</td>\n",
              "      <td>brain head hemorrhage loss consciousness mater...</td>\n",
              "      <td>Falls</td>\n",
              "      <td>-0.151037</td>\n",
              "      <td>-0.049161</td>\n",
              "    </tr>\n",
              "    <tr>\n",
              "      <th>4</th>\n",
              "      <td>1625570.015</td>\n",
              "      <td>09/30/2022</td>\n",
              "      <td>1799.0</td>\n",
              "      <td>152893 - Blusky Restoration Contractors, Llc</td>\n",
              "      <td>At 2:30 p.m. on September 29, 2022, an employe...</td>\n",
              "      <td>blunt force, blunt force trauma, construction,...</td>\n",
              "      <td>1</td>\n",
              "      <td>59.0</td>\n",
              "      <td>M</td>\n",
              "      <td>Fatality</td>\n",
              "      <td>NaN</td>\n",
              "      <td>Occupation not reported</td>\n",
              "      <td>NaN</td>\n",
              "      <td>blunt force blunt force trauma construction fa...</td>\n",
              "      <td>Falls</td>\n",
              "      <td>-0.196861</td>\n",
              "      <td>-0.289497</td>\n",
              "    </tr>\n",
              "    <tr>\n",
              "      <th>...</th>\n",
              "      <td>...</td>\n",
              "      <td>...</td>\n",
              "      <td>...</td>\n",
              "      <td>...</td>\n",
              "      <td>...</td>\n",
              "      <td>...</td>\n",
              "      <td>...</td>\n",
              "      <td>...</td>\n",
              "      <td>...</td>\n",
              "      <td>...</td>\n",
              "      <td>...</td>\n",
              "      <td>...</td>\n",
              "      <td>...</td>\n",
              "      <td>...</td>\n",
              "      <td>...</td>\n",
              "      <td>...</td>\n",
              "      <td>...</td>\n",
              "    </tr>\n",
              "    <tr>\n",
              "      <th>26260</th>\n",
              "      <td>1308198.015</td>\n",
              "      <td>04/12/2018</td>\n",
              "      <td>NaN</td>\n",
              "      <td>Suntrust Banks, Inc.</td>\n",
              "      <td>At 9:30 a.m. on April 10, 2018, Employee #1 ha...</td>\n",
              "      <td>dizziness, emergency response, high temperatur...</td>\n",
              "      <td>1</td>\n",
              "      <td>45.0</td>\n",
              "      <td>F</td>\n",
              "      <td>Fatality</td>\n",
              "      <td>NaN</td>\n",
              "      <td>Bakers</td>\n",
              "      <td>NaN</td>\n",
              "      <td>dizziness emergency response high temperature ...</td>\n",
              "      <td>Falls</td>\n",
              "      <td>-0.141437</td>\n",
              "      <td>-0.017342</td>\n",
              "    </tr>\n",
              "    <tr>\n",
              "      <th>26261</th>\n",
              "      <td>1319125.015</td>\n",
              "      <td>05/29/2018</td>\n",
              "      <td>NaN</td>\n",
              "      <td>Fantasy Cookie Corporation</td>\n",
              "      <td>At 2:30 a.m. on April 10, 2019, Employee #1 wa...</td>\n",
              "      <td>amputation, cleaning, finger, point of operati...</td>\n",
              "      <td>1</td>\n",
              "      <td>57.0</td>\n",
              "      <td>M</td>\n",
              "      <td>Hospitalized injury</td>\n",
              "      <td>NaN</td>\n",
              "      <td>NaN</td>\n",
              "      <td>NaN</td>\n",
              "      <td>amputation cleaning finger point operation struck</td>\n",
              "      <td>Struck by Object</td>\n",
              "      <td>-0.188499</td>\n",
              "      <td>0.271169</td>\n",
              "    </tr>\n",
              "    <tr>\n",
              "      <th>26262</th>\n",
              "      <td>1317114.015</td>\n",
              "      <td>05/15/2018</td>\n",
              "      <td>NaN</td>\n",
              "      <td>Riverside County-Sheriffs Dept</td>\n",
              "      <td>At 5:50 p.m. on April 10, 2018, Employee #1 wa...</td>\n",
              "      <td>asphalt, ear, eye, fall, fracture, golf cart, ...</td>\n",
              "      <td>1</td>\n",
              "      <td>30.0</td>\n",
              "      <td>F</td>\n",
              "      <td>Hospitalized injury</td>\n",
              "      <td>NaN</td>\n",
              "      <td>Law Enforcement: Police</td>\n",
              "      <td>NaN</td>\n",
              "      <td>asphalt ear eye fall fracture golf cart head l...</td>\n",
              "      <td>Falls</td>\n",
              "      <td>-0.180827</td>\n",
              "      <td>-0.145607</td>\n",
              "    </tr>\n",
              "    <tr>\n",
              "      <th>26264</th>\n",
              "      <td>1307533.015</td>\n",
              "      <td>04/10/2018</td>\n",
              "      <td>NaN</td>\n",
              "      <td>Maragos Painting Llc</td>\n",
              "      <td>On April 10, 2018, during a safety inspection ...</td>\n",
              "      <td>construction, equipment failure, fall, fall pr...</td>\n",
              "      <td>1</td>\n",
              "      <td>39.0</td>\n",
              "      <td>M</td>\n",
              "      <td>Non Hospitalized injury</td>\n",
              "      <td>NaN</td>\n",
              "      <td>Painters, construction and maintenance</td>\n",
              "      <td>FallDist: 6FallHt:6Cause: Interior painting an...</td>\n",
              "      <td>construction equipment failure fall fall prote...</td>\n",
              "      <td>Falls</td>\n",
              "      <td>-0.184150</td>\n",
              "      <td>-0.199927</td>\n",
              "    </tr>\n",
              "    <tr>\n",
              "      <th>26265</th>\n",
              "      <td>1308340.015</td>\n",
              "      <td>04/12/2018</td>\n",
              "      <td>NaN</td>\n",
              "      <td>G &amp; W Products Llc</td>\n",
              "      <td>At 1:05 p.m. on April 9, 2018, Employee #1 was...</td>\n",
              "      <td>fracture, head, laceration, neck, steel, struc...</td>\n",
              "      <td>1</td>\n",
              "      <td>56.0</td>\n",
              "      <td>M</td>\n",
              "      <td>Hospitalized injury</td>\n",
              "      <td>NaN</td>\n",
              "      <td>Welders and cutters</td>\n",
              "      <td>NaN</td>\n",
              "      <td>fracture head laceration neck steel struck</td>\n",
              "      <td>Falls</td>\n",
              "      <td>-0.189018</td>\n",
              "      <td>-0.108084</td>\n",
              "    </tr>\n",
              "  </tbody>\n",
              "</table>\n",
              "<p>26196 rows × 17 columns</p>\n",
              "</div>\n",
              "      <button class=\"colab-df-convert\" onclick=\"convertToInteractive('df-ce704906-3f7f-4b4a-8639-fd41defbf029')\"\n",
              "              title=\"Convert this dataframe to an interactive table.\"\n",
              "              style=\"display:none;\">\n",
              "        \n",
              "  <svg xmlns=\"http://www.w3.org/2000/svg\" height=\"24px\"viewBox=\"0 0 24 24\"\n",
              "       width=\"24px\">\n",
              "    <path d=\"M0 0h24v24H0V0z\" fill=\"none\"/>\n",
              "    <path d=\"M18.56 5.44l.94 2.06.94-2.06 2.06-.94-2.06-.94-.94-2.06-.94 2.06-2.06.94zm-11 1L8.5 8.5l.94-2.06 2.06-.94-2.06-.94L8.5 2.5l-.94 2.06-2.06.94zm10 10l.94 2.06.94-2.06 2.06-.94-2.06-.94-.94-2.06-.94 2.06-2.06.94z\"/><path d=\"M17.41 7.96l-1.37-1.37c-.4-.4-.92-.59-1.43-.59-.52 0-1.04.2-1.43.59L10.3 9.45l-7.72 7.72c-.78.78-.78 2.05 0 2.83L4 21.41c.39.39.9.59 1.41.59.51 0 1.02-.2 1.41-.59l7.78-7.78 2.81-2.81c.8-.78.8-2.07 0-2.86zM5.41 20L4 18.59l7.72-7.72 1.47 1.35L5.41 20z\"/>\n",
              "  </svg>\n",
              "      </button>\n",
              "      \n",
              "  <style>\n",
              "    .colab-df-container {\n",
              "      display:flex;\n",
              "      flex-wrap:wrap;\n",
              "      gap: 12px;\n",
              "    }\n",
              "\n",
              "    .colab-df-convert {\n",
              "      background-color: #E8F0FE;\n",
              "      border: none;\n",
              "      border-radius: 50%;\n",
              "      cursor: pointer;\n",
              "      display: none;\n",
              "      fill: #1967D2;\n",
              "      height: 32px;\n",
              "      padding: 0 0 0 0;\n",
              "      width: 32px;\n",
              "    }\n",
              "\n",
              "    .colab-df-convert:hover {\n",
              "      background-color: #E2EBFA;\n",
              "      box-shadow: 0px 1px 2px rgba(60, 64, 67, 0.3), 0px 1px 3px 1px rgba(60, 64, 67, 0.15);\n",
              "      fill: #174EA6;\n",
              "    }\n",
              "\n",
              "    [theme=dark] .colab-df-convert {\n",
              "      background-color: #3B4455;\n",
              "      fill: #D2E3FC;\n",
              "    }\n",
              "\n",
              "    [theme=dark] .colab-df-convert:hover {\n",
              "      background-color: #434B5C;\n",
              "      box-shadow: 0px 1px 3px 1px rgba(0, 0, 0, 0.15);\n",
              "      filter: drop-shadow(0px 1px 2px rgba(0, 0, 0, 0.3));\n",
              "      fill: #FFFFFF;\n",
              "    }\n",
              "  </style>\n",
              "\n",
              "      <script>\n",
              "        const buttonEl =\n",
              "          document.querySelector('#df-ce704906-3f7f-4b4a-8639-fd41defbf029 button.colab-df-convert');\n",
              "        buttonEl.style.display =\n",
              "          google.colab.kernel.accessAllowed ? 'block' : 'none';\n",
              "\n",
              "        async function convertToInteractive(key) {\n",
              "          const element = document.querySelector('#df-ce704906-3f7f-4b4a-8639-fd41defbf029');\n",
              "          const dataTable =\n",
              "            await google.colab.kernel.invokeFunction('convertToInteractive',\n",
              "                                                     [key], {});\n",
              "          if (!dataTable) return;\n",
              "\n",
              "          const docLinkHtml = 'Like what you see? Visit the ' +\n",
              "            '<a target=\"_blank\" href=https://colab.research.google.com/notebooks/data_table.ipynb>data table notebook</a>'\n",
              "            + ' to learn more about interactive tables.';\n",
              "          element.innerHTML = '';\n",
              "          dataTable['output_type'] = 'display_data';\n",
              "          await google.colab.output.renderOutput(dataTable, element);\n",
              "          const docLink = document.createElement('div');\n",
              "          docLink.innerHTML = docLinkHtml;\n",
              "          element.appendChild(docLink);\n",
              "        }\n",
              "      </script>\n",
              "    </div>\n",
              "  </div>\n",
              "  "
            ]
          },
          "metadata": {},
          "execution_count": 60
        }
      ]
    },
    {
      "cell_type": "code",
      "source": [
        "# set image size\n",
        "plt.figure(figsize=(8,8))\n",
        "# set a title\n",
        "plt.title(\"TF-IDF + KMeans Clustering\", fontdict={\"fontsize\": 9})\n",
        "# set axes names\n",
        "plt.xlabel(\"X0\", fontdict={\"fontsize\": 8})\n",
        "plt.ylabel(\"X1\", fontdict={\"fontsize\": 8})\n",
        "# create scatter plot with seaborn, where hue is the class used to group the data\n",
        "sns.scatterplot(data=df, x='x0', y='x1', hue='cluster', palette=\"viridis\")\n",
        "plt.show()"
      ],
      "metadata": {
        "colab": {
          "base_uri": "https://localhost:8080/",
          "height": 710
        },
        "id": "BS0T5iWHRSHz",
        "outputId": "65bdc69c-2e99-48ad-8cff-ab7699f66243"
      },
      "execution_count": 61,
      "outputs": [
        {
          "output_type": "display_data",
          "data": {
            "text/plain": [
              "<Figure size 800x800 with 1 Axes>"
            ],
            "image/png": "[encoded data removed]"
          },
          "metadata": {}
        }
      ]
    },
    {
      "cell_type": "code",
      "source": [
        "df.cluster.value_counts()"
      ],
      "metadata": {
        "colab": {
          "base_uri": "https://localhost:8080/"
        },
        "id": "ZACppoJEkRqV",
        "outputId": "817800de-8146-44d3-a197-bf416fdfc23c"
      },
      "execution_count": 62,
      "outputs": [
        {
          "output_type": "execute_result",
          "data": {
            "text/plain": [
              "Falls               17094\n",
              "Struck by Object     4670\n",
              "Electrocutions       4432\n",
              "Name: cluster, dtype: int64"
            ]
          },
          "metadata": {},
          "execution_count": 62
        }
      ]
    },
    {
      "cell_type": "code",
      "source": [
        "100.* df.cluster.value_counts() / len(df.cluster)"
      ],
      "metadata": {
        "colab": {
          "base_uri": "https://localhost:8080/"
        },
        "id": "98Xa0hYgqOmc",
        "outputId": "a96ddb45-8382-45a0-af70-e34815f3df49"
      },
      "execution_count": 63,
      "outputs": [
        {
          "output_type": "execute_result",
          "data": {
            "text/plain": [
              "Falls               65.254237\n",
              "Struck by Object    17.827149\n",
              "Electrocutions      16.918614\n",
              "Name: cluster, dtype: float64"
            ]
          },
          "metadata": {},
          "execution_count": 63
        }
      ]
    },
    {
      "cell_type": "markdown",
      "source": [
        "# Falls  - 65%\n",
        "#Struck by Object - 17%\n",
        "#Electrocutions - 16%"
      ],
      "metadata": {
        "id": "UehPte8Gqzkv"
      }
    }
  ]
}